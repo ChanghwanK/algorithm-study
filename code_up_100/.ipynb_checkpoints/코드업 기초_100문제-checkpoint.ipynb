{
 "cells": [
  {
   "cell_type": "markdown",
   "id": "timely-pixel",
   "metadata": {},
   "source": [
    "## 코드업 기초 100 문제"
   ]
  },
  {
   "cell_type": "code",
   "execution_count": 8,
   "id": "automatic-voluntary",
   "metadata": {},
   "outputs": [],
   "source": [
    "// 1. 번  Hello 출력\n",
    "\n",
    "class Main_01 {\n",
    "    public void show () {\n",
    "        System.out.println(\"Hello\");\n",
    "    }\n",
    "}"
   ]
  },
  {
   "cell_type": "code",
   "execution_count": 20,
   "id": "secure-finder",
   "metadata": {},
   "outputs": [
    {
     "name": "stdout",
     "output_type": "stream",
     "text": [
      "Hello World"
     ]
    }
   ],
   "source": [
    "// 2. 번 Hello World 출력\n",
    "class Main_02 {\n",
    "    public static void show() {\n",
    "        System.out.print(\"Hello World\");\n",
    "    }\n",
    "}\n",
    "\n",
    "Main_02.show();"
   ]
  },
  {
   "cell_type": "code",
   "execution_count": 23,
   "id": "guided-elephant",
   "metadata": {
    "scrolled": true
   },
   "outputs": [
    {
     "name": "stdout",
     "output_type": "stream",
     "text": [
      "Hello\n",
      "World"
     ]
    }
   ],
   "source": [
    "// 3. 번 두 줄에 걸쳐 줄을 바꿔 출력\n",
    "\n",
    "class Main_03 {\n",
    "    public static void show() {\n",
    "        System.out.print(\"Hello\" + \"\\n\" + \"World\");\n",
    "    }\n",
    "}\n",
    "\n",
    "Main_03.show();"
   ]
  },
  {
   "cell_type": "code",
   "execution_count": 25,
   "id": "increased-reminder",
   "metadata": {},
   "outputs": [
    {
     "name": "stdout",
     "output_type": "stream",
     "text": [
      "'Hello World'"
     ]
    }
   ],
   "source": [
    "// 4. 번 'Hello World' 출력\n",
    "class Main_04 {\n",
    "    public static void show() {\n",
    "        System.out.print(\"'Hello World'\");\n",
    "    }\n",
    "}\n",
    "\n",
    "Main_04.show();"
   ]
  },
  {
   "cell_type": "code",
   "execution_count": 27,
   "id": "laughing-kitty",
   "metadata": {},
   "outputs": [
    {
     "name": "stdout",
     "output_type": "stream",
     "text": [
      "\"Hello World\""
     ]
    }
   ],
   "source": [
    "// 5. 번 \"Hello World\" 출력\n",
    "class Main_05 {\n",
    "    public static void show() {\n",
    "        System.out.print(\"\\\"Hello World\\\"\");\n",
    "    }\n",
    "}\n",
    "\n",
    "Main_05.show();"
   ]
  },
  {
   "cell_type": "code",
   "execution_count": 33,
   "id": "fantastic-password",
   "metadata": {},
   "outputs": [
    {
     "name": "stdout",
     "output_type": "stream",
     "text": [
      "\"!@#$%^&*()\""
     ]
    }
   ],
   "source": [
    "// 6. 번 다음 특수 문자를 출력\n",
    "// \"!@#$%^&*()\"  (단, \"\" 도 함께 출력)\n",
    "\n",
    "class Main_06 {\n",
    "    public static void show() {\n",
    "        System.out.print(\"\\\"!@#$%^&*()\\\"\");\n",
    "    }\n",
    "}\n",
    "\n",
    "Main_06.show();"
   ]
  },
  {
   "cell_type": "code",
   "execution_count": 38,
   "id": "opposite-address",
   "metadata": {},
   "outputs": [
    {
     "name": "stdout",
     "output_type": "stream",
     "text": [
      "\"C:\\Download\\hello.cpp\""
     ]
    }
   ],
   "source": [
    "// 7번. 다음 경로를 출력. 큰 따옴표도 함께 출력한다.\n",
    "// \"C:\\Download\\hello.cpp\"\n",
    "\n",
    "class Main_07 {\n",
    "    public static void show() {\n",
    "        System.out.print(\"\\\"C:\\\\Download\\\\hello.cpp\\\"\");\n",
    "    }\n",
    "}\n",
    "\n",
    "Main_07.show();"
   ]
  },
  {
   "cell_type": "code",
   "execution_count": 40,
   "id": "homeless-nightmare",
   "metadata": {},
   "outputs": [
    {
     "name": "stdout",
     "output_type": "stream",
     "text": [
      "2\n"
     ]
    },
    {
     "data": {
      "text/plain": [
       "2"
      ]
     },
     "execution_count": 40,
     "metadata": {},
     "output_type": "execute_result"
    }
   ],
   "source": [
    "// 9번. 정수를 입력받아 (int) 변수를 출력;\n",
    "\n",
    "class Main_09 {\n",
    "    public static int showNumber() {\n",
    "        Scanner scan = new Scanner(System.in);\n",
    "        int number = scan.nextInt();\n",
    "        return number;\n",
    "    }\n",
    "}\n",
    "\n",
    "Main_09.showNumber();"
   ]
  },
  {
   "cell_type": "code",
   "execution_count": 45,
   "id": "sixth-mexican",
   "metadata": {},
   "outputs": [
    {
     "name": "stdout",
     "output_type": "stream",
     "text": [
      "2\n"
     ]
    },
    {
     "data": {
      "text/plain": [
       "2"
      ]
     },
     "execution_count": 45,
     "metadata": {},
     "output_type": "execute_result"
    }
   ],
   "source": [
    "// 1011 번, 문자 1개 입력받아 그래도 출력하기\n",
    "\n",
    "class Main_10 {\n",
    "    public static char show() {\n",
    "        Scanner scan = new Scanner(System.in);\n",
    "        char a = scan.next().charAt(0);\n",
    "        return a;\n",
    "    }\n",
    "}\n",
    "\n",
    "Main_10.show();"
   ]
  },
  {
   "cell_type": "code",
   "execution_count": 50,
   "id": "disturbed-french",
   "metadata": {},
   "outputs": [
    {
     "name": "stdout",
     "output_type": "stream",
     "text": [
      "3.14\n"
     ]
    },
    {
     "data": {
      "text/plain": [
       "3.14"
      ]
     },
     "execution_count": 50,
     "metadata": {},
     "output_type": "execute_result"
    }
   ],
   "source": [
    "// 1012 번 실수형 변수를 선언하고 그 변수에 실수값을 저장하고 저장되어 있는 실수값을 출력\n",
    "\n",
    "class Main_11 {\n",
    "    public static float show() {\n",
    "        Scanner scan = new Scanner(System.in);\n",
    "        float x = scan.nextFloat();\n",
    "        return x;\n",
    "    }\n",
    "}\n",
    "\n",
    "Main_11.show();"
   ]
  },
  {
   "cell_type": "code",
   "execution_count": 61,
   "id": "working-success",
   "metadata": {},
   "outputs": [
    {
     "name": "stdout",
     "output_type": "stream",
     "text": [
      "2\n",
      "3\n",
      "2 3"
     ]
    }
   ],
   "source": [
    "// 1013 번 정수 2개를 입력받아 그래도 출력\n",
    "class Main_12 {\n",
    "    public static void show() {\n",
    "        Scanner scan = new Scanner(System.in);\n",
    "        int a = scan.nextInt();\n",
    "        int b = scan.nextInt();\n",
    "//        System.out.println(a+\" \"+b);\n",
    "        System.out.printf(\"%d %d\", a,b);\n",
    "    }\n",
    "}\n",
    "\n",
    "Main_12.show();"
   ]
  },
  {
   "cell_type": "markdown",
   "id": "multiple-norfolk",
   "metadata": {},
   "source": [
    "// 1014 문자 2개 입력받아 순서 바꿔 출력하기\n",
    "\n",
    "class Main_13 {\n",
    "    public static void show() {\n",
    "        Scanner scan = new Scanner(System.in);\n",
    "        char a = scan.next().charAt(0);\n",
    "        char b = scan.next().charAt(0);        \n",
    "        System.out.printf(\"%s %s\", b,a);\n",
    "    }\n",
    "}\n",
    "\n",
    "Main_13.show();"
   ]
  }
 ],
 "metadata": {
  "kernelspec": {
   "display_name": "Java",
   "language": "java",
   "name": "java"
  },
  "language_info": {
   "codemirror_mode": "java",
   "file_extension": ".jshell",
   "mimetype": "text/x-java-source",
   "name": "Java",
   "pygments_lexer": "java",
   "version": "15.0.1+9-18"
  }
 },
 "nbformat": 4,
 "nbformat_minor": 5
}
