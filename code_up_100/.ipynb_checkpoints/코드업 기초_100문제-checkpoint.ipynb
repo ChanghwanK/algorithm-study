{
 "cells": [
  {
   "cell_type": "markdown",
   "id": "timely-pixel",
   "metadata": {},
   "source": [
    "## 코드업 기초 100 문제"
   ]
  },
  {
   "cell_type": "code",
   "execution_count": 7,
   "id": "automatic-voluntary",
   "metadata": {},
   "outputs": [],
   "source": [
    "// 1. 번  Hello 출력\n",
    "\n",
    "class Main {\n",
    "    public static void main (String [] args) {\n",
    "        System.out.println(\"Hello\");\n",
    "    }\n",
    "}"
   ]
  },
  {
   "cell_type": "code",
   "execution_count": null,
   "id": "secure-finder",
   "metadata": {},
   "outputs": [],
   "source": []
  }
 ],
 "metadata": {
  "kernelspec": {
   "display_name": "Java",
   "language": "java",
   "name": "java"
  },
  "language_info": {
   "codemirror_mode": "java",
   "file_extension": ".jshell",
   "mimetype": "text/x-java-source",
   "name": "Java",
   "pygments_lexer": "java",
   "version": "15.0.1+9-18"
  }
 },
 "nbformat": 4,
 "nbformat_minor": 5
}
